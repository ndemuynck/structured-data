{
 "cells": [
  {
   "cell_type": "markdown",
   "metadata": {},
   "source": [
    "# Applying the perceptron theory\n",
    "Although we're going to use the `tensorflow` library, we're going to mainly use the high level library [`keras`](https://keras.io/), that was previously standalone but got integrated into the newer version of tensorflow when it's author, [Francois Chollet](https://twitter.com/fchollet?ref_src=twsrc%5Egoogle%7Ctwcamp%5Eserp%7Ctwgr%5Eauthor), went to work for Google.\n",
    "\n",
    "We'll be coding the same neural network as we did in for `pytorch`. Make sure to review it before diving into this chapter, as I will not re-explain everything."
   ]
  },
  {
   "cell_type": "code",
   "execution_count": 1,
   "metadata": {},
   "outputs": [],
   "source": [
    "import pandas as pd\n",
    "import numpy as np\n",
    "import tensorflow as tf\n",
    "from tensorflow import keras\n",
    "from matplotlib import pyplot as plt\n",
    "%matplotlib inline"
   ]
  },
  {
   "cell_type": "markdown",
   "metadata": {},
   "source": [
    "Just like the previous chapter, load the same dataset using the same method. However, no need to convert them to tensors, as we are not using `pytorch` anymore."
   ]
  },
  {
   "cell_type": "code",
   "execution_count": 2,
   "metadata": {},
   "outputs": [
    {
     "name": "stdout",
     "output_type": "stream",
     "text": [
      "(150, 5)\n",
      "Iris-versicolor    50\n",
      "Iris-virginica     50\n",
      "Iris-setosa        50\n",
      "Name: species, dtype: int64\n",
      "(120, 4) (30, 4) (120, 3) (30, 3)\n"
     ]
    }
   ],
   "source": [
    "# TO COMPLETE:  Load dataset\n",
    "# Load dataset\n",
    "filename = \"./data/iris.csv\"\n",
    "df = pd.read_csv(filename)\n",
    "df = df.sample(frac=1).reset_index(drop=True) # Shuffle dataframe\n",
    "df.head()\n",
    "print(df.shape)\n",
    "print(df[\"species\"].value_counts())\n",
    "\n",
    "# Creating a test/train split\n",
    "train_test_split_fraction = 0.80\n",
    "split_index = int(df.shape[0] * train_test_split_fraction)\n",
    "df_train = df[:split_index]\n",
    "df_test = df[split_index:]\n",
    "target = pd.get_dummies(df['species']).values # One hot encode\n",
    "\n",
    "# Selecting the features and the target\n",
    "X_train = df_train.drop('species', axis = 1).values\n",
    "X_test = df_test.drop('species', axis = 1).values\n",
    "\n",
    "y_train = target[:split_index]\n",
    "y_test = target[split_index:]\n",
    "\n",
    "print(X_train.shape,X_test.shape, y_train.shape, y_test.shape)"
   ]
  },
  {
   "cell_type": "code",
   "execution_count": 3,
   "metadata": {},
   "outputs": [],
   "source": [
    "# Setting some constants\n",
    "nb_hidden_neurons = 10\n",
    "nb_classes = len(pd.unique(df['species']))\n",
    "nb_features= X_train.shape[1]\n",
    "batch_size = 1"
   ]
  },
  {
   "cell_type": "markdown",
   "metadata": {},
   "source": [
    "In `keras`, there are [three ways](https://www.pyimagesearch.com/2019/10/28/3-ways-to-create-a-keras-model-with-tensorflow-2-0-sequential-functional-and-model-subclassing/) to build a neural network. We are going to focus on the `Sequential` mode, so that you can see different ways of building one. In `pytorch`, we mostly did something similar to the model subclassing and functional approach of keras.\n",
    "\n",
    "Here below, we want you to construct the model architecture; the same one that was used in the previous chapter. You see a recap below.\n",
    "\n",
    "*Hint: a linear layer in keras is `keras.layers.Dense`*"
   ]
  },
  {
   "cell_type": "code",
   "execution_count": 48,
   "metadata": {},
   "outputs": [],
   "source": [
    "from keras.models import Sequential\n",
    "from tensorflow.keras import layers\n",
    "\n",
    "# Define Sequential model with 3 layers\n",
    "model = Sequential()\n",
    "model.add(layers.Dense(nb_hidden_neurons, activation=\"relu\", input_shape=(nb_features,), name=\"layer1\"))\n",
    "model.add(layers.Dense(nb_hidden_neurons, activation=\"relu\", name=\"layer2\"))\n",
    "model.add(layers.Dense(nb_classes, activation= \"softmax\", name=\"layer3\"))"
   ]
  },
  {
   "cell_type": "markdown",
   "metadata": {},
   "source": [
    "#TO COMPLETE: Build the model with `model.build()`. You might need to specify the `input_shape`.\n",
    "model.layers"
   ]
  },
  {
   "cell_type": "code",
   "execution_count": 49,
   "metadata": {},
   "outputs": [
    {
     "name": "stdout",
     "output_type": "stream",
     "text": [
      "Model: \"sequential_6\"\n",
      "_________________________________________________________________\n",
      "Layer (type)                 Output Shape              Param #   \n",
      "=================================================================\n",
      "layer1 (Dense)               (None, 10)                50        \n",
      "_________________________________________________________________\n",
      "layer2 (Dense)               (None, 10)                110       \n",
      "_________________________________________________________________\n",
      "layer3 (Dense)               (None, 3)                 33        \n",
      "=================================================================\n",
      "Total params: 193\n",
      "Trainable params: 193\n",
      "Non-trainable params: 0\n",
      "_________________________________________________________________\n"
     ]
    }
   ],
   "source": [
    "model.summary()"
   ]
  },
  {
   "cell_type": "markdown",
   "metadata": {},
   "source": [
    "`model.summary()` should return the following if you've done everything right\n",
    "\n",
    "```\n",
    "Model: \"sequential_2\"\n",
    "_________________________________________________________________\n",
    "Layer (type)                 Output Shape              Param #   \n",
    "=================================================================\n",
    "dense_6 (Dense)              (None, 10)                50        \n",
    "_________________________________________________________________\n",
    "dense_7 (Dense)              (None, 10)                110       \n",
    "_________________________________________________________________\n",
    "dense_8 (Dense)              (None, 3)                 33        \n",
    "=================================================================\n",
    "Total params: 193\n",
    "Trainable params: 193\n",
    "Non-trainable params: 0\n",
    "_________________________________________________________________\n",
    "```"
   ]
  },
  {
   "cell_type": "code",
   "execution_count": 85,
   "metadata": {},
   "outputs": [
    {
     "name": "stdout",
     "output_type": "stream",
     "text": [
      "(120, 4)\n"
     ]
    }
   ],
   "source": [
    "#Making sure the type is correct\n",
    "X_train = X_train.astype(\"float32\")\n",
    "y_train = y_train.astype(\"float32\")\n",
    "X_test = X_test.astype(\"float32\")\n",
    "y_test = y_test.astype(\"float32\")\n",
    "print(X_train.shape)"
   ]
  },
  {
   "cell_type": "code",
   "execution_count": 57,
   "metadata": {},
   "outputs": [],
   "source": [
    "from keras.optimizers import SGD,Adam\n",
    "from keras.losses import MSE\n",
    "\n",
    "learning_rate = 0.04\n",
    "optimizer = Adam(lr=learning_rate)\n",
    "loss = MSE"
   ]
  },
  {
   "cell_type": "code",
   "execution_count": 58,
   "metadata": {},
   "outputs": [
    {
     "name": "stdout",
     "output_type": "stream",
     "text": [
      "Epoch 1/15\n",
      "4/4 [==============================] - 1s 2ms/step - loss: 0.1804 - accuracy: 0.5796\n",
      "Epoch 2/15\n",
      "4/4 [==============================] - 0s 3ms/step - loss: 0.1376 - accuracy: 0.7069\n",
      "Epoch 3/15\n",
      "4/4 [==============================] - 0s 3ms/step - loss: 0.1657 - accuracy: 0.6569\n",
      "Epoch 4/15\n",
      "4/4 [==============================] - 0s 2ms/step - loss: 0.1139 - accuracy: 0.7146\n",
      "Epoch 5/15\n",
      "4/4 [==============================] - 0s 3ms/step - loss: 0.1027 - accuracy: 0.7490\n",
      "Epoch 6/15\n",
      "4/4 [==============================] - 0s 2ms/step - loss: 0.0946 - accuracy: 0.7006\n",
      "Epoch 7/15\n",
      "4/4 [==============================] - 0s 3ms/step - loss: 0.0916 - accuracy: 0.7992\n",
      "Epoch 8/15\n",
      "4/4 [==============================] - 0s 3ms/step - loss: 0.0863 - accuracy: 0.8812\n",
      "Epoch 9/15\n",
      "4/4 [==============================] - 0s 3ms/step - loss: 0.0844 - accuracy: 0.7929\n",
      "Epoch 10/15\n",
      "4/4 [==============================] - 0s 3ms/step - loss: 0.0692 - accuracy: 0.9362\n",
      "Epoch 11/15\n",
      "4/4 [==============================] - 0s 2ms/step - loss: 0.0569 - accuracy: 0.9083\n",
      "Epoch 12/15\n",
      "4/4 [==============================] - 0s 3ms/step - loss: 0.0477 - accuracy: 0.9635\n",
      "Epoch 13/15\n",
      "4/4 [==============================] - 0s 3ms/step - loss: 0.0451 - accuracy: 0.9448\n",
      "Epoch 14/15\n",
      "4/4 [==============================] - 0s 3ms/step - loss: 0.0360 - accuracy: 0.9571\n",
      "Epoch 15/15\n",
      "4/4 [==============================] - 0s 3ms/step - loss: 0.0416 - accuracy: 0.9252\n"
     ]
    }
   ],
   "source": [
    "# TO COMPLETE:\n",
    "# - compile the model using `model.compile()` and the variables set before\n",
    "model.compile(optimizer=optimizer, loss=loss, metrics=['accuracy'])\n",
    "# - create a variable `history`\n",
    "\n",
    "# - fit the model and assign the result to `history`\n",
    "history = model.fit(X_train, y_train, epochs=15)"
   ]
  },
  {
   "cell_type": "code",
   "execution_count": 59,
   "metadata": {},
   "outputs": [
    {
     "data": {
      "image/png": "[encoded data removed]",
      "text/plain": [
       "<Figure size 720x288 with 2 Axes>"
      ]
     },
     "metadata": {
      "needs_background": "light"
     },
     "output_type": "display_data"
    }
   ],
   "source": [
    "loss = history.history['loss']\n",
    "accuracy = history.history['accuracy']\n",
    "\n",
    "fig, axs = plt.subplots(nrows=1,ncols=2,figsize=(10,4))\n",
    "axs[0].plot(range(len(loss)), loss)\n",
    "axs[0].set(xlabel=\"Epochs\", ylabel=\"Loss\", title=\"Training loss\")\n",
    "axs[1].plot(range(len(accuracy)), accuracy)\n",
    "axs[1].set(xlabel=\"Epochs\", ylabel=\"Accuracy\", title=\"Training accuracy\")\n",
    "plt.show()"
   ]
  },
  {
   "cell_type": "markdown",
   "metadata": {},
   "source": [
    "The loss shall decrease and the accuracy shall increase. You should get something similar to this.\n",
    "![Loss and accuracy ](./assets/tf_loss_and_accuracy.png)\n",
    "\n",
    "Moreover, testing on the testing set shall result in a (near) perfect score."
   ]
  },
  {
   "cell_type": "code",
   "execution_count": 62,
   "metadata": {},
   "outputs": [
    {
     "name": "stdout",
     "output_type": "stream",
     "text": [
      "\n",
      "Accuracy on test set is 86.67%\n"
     ]
    }
   ],
   "source": [
    "# TO COMPLETE: Evaluate the model on the test set.\n",
    "results = model.evaluate(X_test, y_test, verbose=0)\n",
    "print(f\"\\nAccuracy on test set is {results[1]*100:.2f}%\")"
   ]
  },
  {
   "cell_type": "markdown",
   "metadata": {},
   "source": [
    "*Voilà*, you've seen both approaches to create a neural network. Of course, there are still MANY things to learn about `pytorch` and `keras`, we've barely even scratched the surface. But now that you know the basics, you will be able to test them out on a new project!"
   ]
  },
  {
   "cell_type": "code",
   "execution_count": 83,
   "metadata": {},
   "outputs": [
    {
     "data": {
      "text/plain": [
       "array([[2.0742100e-03, 3.1812522e-01, 6.7980057e-01],\n",
       "       [1.6567364e-03, 3.5059300e-01, 6.4775026e-01],\n",
       "       [7.7485010e-06, 8.5273441e-03, 9.9146491e-01],\n",
       "       [8.2969582e-06, 3.2427171e-03, 9.9674904e-01],\n",
       "       [9.9992239e-01, 6.7657733e-05, 9.9428107e-06],\n",
       "       [2.8335196e-05, 1.1964034e-02, 9.8800766e-01],\n",
       "       [9.4221896e-06, 5.2380888e-03, 9.9475241e-01],\n",
       "       [4.7885622e-03, 6.9415545e-01, 3.0105594e-01],\n",
       "       [3.7585382e-05, 1.7960327e-02, 9.8200202e-01],\n",
       "       [1.0574527e-05, 4.3807989e-03, 9.9560863e-01],\n",
       "       [3.2706457e-04, 6.8675138e-02, 9.3099785e-01],\n",
       "       [4.8243743e-03, 5.7944053e-01, 4.1573510e-01],\n",
       "       [1.2791050e-02, 7.5293553e-01, 2.3427348e-01],\n",
       "       [6.7020933e-06, 5.7406803e-03, 9.9425262e-01],\n",
       "       [9.9930346e-01, 6.0488743e-04, 9.1567170e-05],\n",
       "       [8.8819297e-04, 1.8408078e-01, 8.1503111e-01],\n",
       "       [9.9982136e-01, 1.5536376e-04, 2.3182723e-05],\n",
       "       [7.3929979e-03, 6.2435502e-01, 3.6825201e-01],\n",
       "       [4.3527549e-03, 6.1551338e-01, 3.8013381e-01],\n",
       "       [9.9826175e-01, 1.5101286e-03, 2.2818294e-04],\n",
       "       [1.1559590e-02, 5.4128987e-01, 4.4715056e-01],\n",
       "       [5.4574395e-03, 6.3676953e-01, 3.5777295e-01],\n",
       "       [5.4433700e-03, 6.5583980e-01, 3.3871686e-01],\n",
       "       [9.9976498e-01, 2.0362435e-04, 3.1354284e-05],\n",
       "       [2.3753499e-03, 3.4070459e-01, 6.5691996e-01],\n",
       "       [5.3328291e-05, 1.3215996e-02, 9.8673069e-01],\n",
       "       [3.8678276e-03, 6.0732365e-01, 3.8880855e-01],\n",
       "       [1.8883689e-05, 9.7306985e-03, 9.9025035e-01],\n",
       "       [9.9967289e-01, 2.8372440e-04, 4.3424196e-05],\n",
       "       [9.9978572e-01, 1.8577762e-04, 2.8444636e-05]], dtype=float32)"
      ]
     },
     "execution_count": 83,
     "metadata": {},
     "output_type": "execute_result"
    }
   ],
   "source": [
    "y_pred = model.predict(X_test)\n",
    "y_pred"
   ]
  },
  {
   "cell_type": "code",
   "execution_count": 86,
   "metadata": {},
   "outputs": [
    {
     "data": {
      "text/plain": [
       "array([[0., 1., 0.],\n",
       "       [0., 1., 0.],\n",
       "       [0., 0., 1.],\n",
       "       [0., 0., 1.],\n",
       "       [1., 0., 0.],\n",
       "       [0., 0., 1.],\n",
       "       [0., 0., 1.],\n",
       "       [0., 1., 0.],\n",
       "       [0., 0., 1.],\n",
       "       [0., 0., 1.],\n",
       "       [0., 0., 1.],\n",
       "       [0., 1., 0.],\n",
       "       [0., 1., 0.],\n",
       "       [0., 0., 1.],\n",
       "       [1., 0., 0.],\n",
       "       [0., 1., 0.],\n",
       "       [1., 0., 0.],\n",
       "       [0., 1., 0.],\n",
       "       [0., 1., 0.],\n",
       "       [1., 0., 0.],\n",
       "       [0., 1., 0.],\n",
       "       [0., 1., 0.],\n",
       "       [0., 1., 0.],\n",
       "       [1., 0., 0.],\n",
       "       [0., 1., 0.],\n",
       "       [0., 0., 1.],\n",
       "       [0., 1., 0.],\n",
       "       [0., 0., 1.],\n",
       "       [1., 0., 0.],\n",
       "       [1., 0., 0.]], dtype=float32)"
      ]
     },
     "execution_count": 86,
     "metadata": {},
     "output_type": "execute_result"
    }
   ],
   "source": [
    "y_test"
   ]
  },
  {
   "cell_type": "code",
   "execution_count": 87,
   "metadata": {},
   "outputs": [
    {
     "data": {
      "text/plain": [
       "<tf.Tensor: shape=(), dtype=float32, numpy=0.0>"
      ]
     },
     "execution_count": 87,
     "metadata": {},
     "output_type": "execute_result"
    }
   ],
   "source": [
    "accuracy_score = tf.keras.metrics.Accuracy()\n",
    "\n",
    "accuracy_score(y_pred,y_test)"
   ]
  },
  {
   "cell_type": "code",
   "execution_count": 88,
   "metadata": {},
   "outputs": [
    {
     "data": {
      "text/plain": [
       "<tf.Tensor: shape=(30, 2, 3), dtype=float32, numpy=\n",
       "array([[[0.0000000e+00, 1.0000000e+00, 0.0000000e+00],\n",
       "        [2.0742100e-03, 3.1812522e-01, 6.7980057e-01]],\n",
       "\n",
       "       [[0.0000000e+00, 1.0000000e+00, 0.0000000e+00],\n",
       "        [1.6567364e-03, 3.5059300e-01, 6.4775026e-01]],\n",
       "\n",
       "       [[0.0000000e+00, 0.0000000e+00, 1.0000000e+00],\n",
       "        [7.7485010e-06, 8.5273441e-03, 9.9146491e-01]],\n",
       "\n",
       "       [[0.0000000e+00, 0.0000000e+00, 1.0000000e+00],\n",
       "        [8.2969582e-06, 3.2427171e-03, 9.9674904e-01]],\n",
       "\n",
       "       [[1.0000000e+00, 0.0000000e+00, 0.0000000e+00],\n",
       "        [9.9992239e-01, 6.7657733e-05, 9.9428107e-06]],\n",
       "\n",
       "       [[0.0000000e+00, 0.0000000e+00, 1.0000000e+00],\n",
       "        [2.8335196e-05, 1.1964034e-02, 9.8800766e-01]],\n",
       "\n",
       "       [[0.0000000e+00, 0.0000000e+00, 1.0000000e+00],\n",
       "        [9.4221896e-06, 5.2380888e-03, 9.9475241e-01]],\n",
       "\n",
       "       [[0.0000000e+00, 1.0000000e+00, 0.0000000e+00],\n",
       "        [4.7885622e-03, 6.9415545e-01, 3.0105594e-01]],\n",
       "\n",
       "       [[0.0000000e+00, 0.0000000e+00, 1.0000000e+00],\n",
       "        [3.7585382e-05, 1.7960327e-02, 9.8200202e-01]],\n",
       "\n",
       "       [[0.0000000e+00, 0.0000000e+00, 1.0000000e+00],\n",
       "        [1.0574527e-05, 4.3807989e-03, 9.9560863e-01]],\n",
       "\n",
       "       [[0.0000000e+00, 0.0000000e+00, 1.0000000e+00],\n",
       "        [3.2706457e-04, 6.8675138e-02, 9.3099785e-01]],\n",
       "\n",
       "       [[0.0000000e+00, 1.0000000e+00, 0.0000000e+00],\n",
       "        [4.8243743e-03, 5.7944053e-01, 4.1573510e-01]],\n",
       "\n",
       "       [[0.0000000e+00, 1.0000000e+00, 0.0000000e+00],\n",
       "        [1.2791050e-02, 7.5293553e-01, 2.3427348e-01]],\n",
       "\n",
       "       [[0.0000000e+00, 0.0000000e+00, 1.0000000e+00],\n",
       "        [6.7020933e-06, 5.7406803e-03, 9.9425262e-01]],\n",
       "\n",
       "       [[1.0000000e+00, 0.0000000e+00, 0.0000000e+00],\n",
       "        [9.9930346e-01, 6.0488743e-04, 9.1567170e-05]],\n",
       "\n",
       "       [[0.0000000e+00, 1.0000000e+00, 0.0000000e+00],\n",
       "        [8.8819297e-04, 1.8408078e-01, 8.1503111e-01]],\n",
       "\n",
       "       [[1.0000000e+00, 0.0000000e+00, 0.0000000e+00],\n",
       "        [9.9982136e-01, 1.5536376e-04, 2.3182723e-05]],\n",
       "\n",
       "       [[0.0000000e+00, 1.0000000e+00, 0.0000000e+00],\n",
       "        [7.3929979e-03, 6.2435502e-01, 3.6825201e-01]],\n",
       "\n",
       "       [[0.0000000e+00, 1.0000000e+00, 0.0000000e+00],\n",
       "        [4.3527549e-03, 6.1551338e-01, 3.8013381e-01]],\n",
       "\n",
       "       [[1.0000000e+00, 0.0000000e+00, 0.0000000e+00],\n",
       "        [9.9826175e-01, 1.5101286e-03, 2.2818294e-04]],\n",
       "\n",
       "       [[0.0000000e+00, 1.0000000e+00, 0.0000000e+00],\n",
       "        [1.1559590e-02, 5.4128987e-01, 4.4715056e-01]],\n",
       "\n",
       "       [[0.0000000e+00, 1.0000000e+00, 0.0000000e+00],\n",
       "        [5.4574395e-03, 6.3676953e-01, 3.5777295e-01]],\n",
       "\n",
       "       [[0.0000000e+00, 1.0000000e+00, 0.0000000e+00],\n",
       "        [5.4433700e-03, 6.5583980e-01, 3.3871686e-01]],\n",
       "\n",
       "       [[1.0000000e+00, 0.0000000e+00, 0.0000000e+00],\n",
       "        [9.9976498e-01, 2.0362435e-04, 3.1354284e-05]],\n",
       "\n",
       "       [[0.0000000e+00, 1.0000000e+00, 0.0000000e+00],\n",
       "        [2.3753499e-03, 3.4070459e-01, 6.5691996e-01]],\n",
       "\n",
       "       [[0.0000000e+00, 0.0000000e+00, 1.0000000e+00],\n",
       "        [5.3328291e-05, 1.3215996e-02, 9.8673069e-01]],\n",
       "\n",
       "       [[0.0000000e+00, 1.0000000e+00, 0.0000000e+00],\n",
       "        [3.8678276e-03, 6.0732365e-01, 3.8880855e-01]],\n",
       "\n",
       "       [[0.0000000e+00, 0.0000000e+00, 1.0000000e+00],\n",
       "        [1.8883689e-05, 9.7306985e-03, 9.9025035e-01]],\n",
       "\n",
       "       [[1.0000000e+00, 0.0000000e+00, 0.0000000e+00],\n",
       "        [9.9967289e-01, 2.8372440e-04, 4.3424196e-05]],\n",
       "\n",
       "       [[1.0000000e+00, 0.0000000e+00, 0.0000000e+00],\n",
       "        [9.9978572e-01, 1.8577762e-04, 2.8444636e-05]]], dtype=float32)>"
      ]
     },
     "execution_count": 88,
     "metadata": {},
     "output_type": "execute_result"
    }
   ],
   "source": [
    "tf.stack([y_test,y_pred],axis=1)"
   ]
  }
 ],
 "metadata": {
  "kernelspec": {
   "display_name": "tf.",
   "language": "python",
   "name": "tf."
  },
  "language_info": {
   "codemirror_mode": {
    "name": "ipython",
    "version": 3
   },
   "file_extension": ".py",
   "mimetype": "text/x-python",
   "name": "python",
   "nbconvert_exporter": "python",
   "pygments_lexer": "ipython3",
   "version": "3.7.9"
  }
 },
 "nbformat": 4,
 "nbformat_minor": 4
}
